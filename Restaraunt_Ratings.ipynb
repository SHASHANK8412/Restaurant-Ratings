{
  "nbformat": 4,
  "nbformat_minor": 0,
  "metadata": {
    "colab": {
      "provenance": [],
      "authorship_tag": "ABX9TyNhWQ/a5V+pfhujieY3L9je",
      "include_colab_link": true
    },
    "kernelspec": {
      "name": "python3",
      "display_name": "Python 3"
    },
    "language_info": {
      "name": "python"
    }
  },
  "cells": [
    {
      "cell_type": "markdown",
      "metadata": {
        "id": "view-in-github",
        "colab_type": "text"
      },
      "source": [
        "<a href=\"https://colab.research.google.com/github/SHASHANK8412/Restaurant-Ratings/blob/main/Restaraunt_Ratings.ipynb\" target=\"_parent\"><img src=\"https://colab.research.google.com/assets/colab-badge.svg\" alt=\"Open In Colab\"/></a>"
      ]
    },
    {
      "cell_type": "code",
      "execution_count": 2,
      "metadata": {
        "id": "Ir3zeTCpqOC9"
      },
      "outputs": [],
      "source": [
        "#importing neccesary Libraries\n",
        "import pandas as pd\n",
        "import numpy as np\n",
        "import matplotlib.pyplot as plt\n",
        "from sklearn.preprocessing import LabelEncoder\n",
        "from sklearn.model_selection import train_test_split\n",
        "from sklearn.linear_model import LinearRegression\n",
        "from sklearn.tree import DecisionTreeRegressor\n",
        "from sklearn.metrics import mean_squared_error,r2_score"
      ]
    },
    {
      "cell_type": "code",
      "source": [
        "#Loading Dataset\n",
        "df=pd.read_csv('Dataset .csv')\n",
        "print(df.head())\n",
        "print(df.isna().sum())\n",
        "print(df.info())\n"
      ],
      "metadata": {
        "colab": {
          "base_uri": "https://localhost:8080/"
        },
        "id": "OSt762bkswaP",
        "outputId": "8aaa8d5d-65c6-45bf-9867-4caf38d72ede"
      },
      "execution_count": 3,
      "outputs": [
        {
          "output_type": "stream",
          "name": "stdout",
          "text": [
            "   Restaurant ID         Restaurant Name  Country Code              City  \\\n",
            "0        6317637        Le Petit Souffle           162       Makati City   \n",
            "1        6304287        Izakaya Kikufuji           162       Makati City   \n",
            "2        6300002  Heat - Edsa Shangri-La           162  Mandaluyong City   \n",
            "3        6318506                    Ooma           162  Mandaluyong City   \n",
            "4        6314302             Sambo Kojin           162  Mandaluyong City   \n",
            "\n",
            "                                             Address  \\\n",
            "0  Third Floor, Century City Mall, Kalayaan Avenu...   \n",
            "1  Little Tokyo, 2277 Chino Roces Avenue, Legaspi...   \n",
            "2  Edsa Shangri-La, 1 Garden Way, Ortigas, Mandal...   \n",
            "3  Third Floor, Mega Fashion Hall, SM Megamall, O...   \n",
            "4  Third Floor, Mega Atrium, SM Megamall, Ortigas...   \n",
            "\n",
            "                                     Locality  \\\n",
            "0   Century City Mall, Poblacion, Makati City   \n",
            "1  Little Tokyo, Legaspi Village, Makati City   \n",
            "2  Edsa Shangri-La, Ortigas, Mandaluyong City   \n",
            "3      SM Megamall, Ortigas, Mandaluyong City   \n",
            "4      SM Megamall, Ortigas, Mandaluyong City   \n",
            "\n",
            "                                    Locality Verbose   Longitude   Latitude  \\\n",
            "0  Century City Mall, Poblacion, Makati City, Mak...  121.027535  14.565443   \n",
            "1  Little Tokyo, Legaspi Village, Makati City, Ma...  121.014101  14.553708   \n",
            "2  Edsa Shangri-La, Ortigas, Mandaluyong City, Ma...  121.056831  14.581404   \n",
            "3  SM Megamall, Ortigas, Mandaluyong City, Mandal...  121.056475  14.585318   \n",
            "4  SM Megamall, Ortigas, Mandaluyong City, Mandal...  121.057508  14.584450   \n",
            "\n",
            "                           Cuisines  ...          Currency Has Table booking  \\\n",
            "0        French, Japanese, Desserts  ...  Botswana Pula(P)               Yes   \n",
            "1                          Japanese  ...  Botswana Pula(P)               Yes   \n",
            "2  Seafood, Asian, Filipino, Indian  ...  Botswana Pula(P)               Yes   \n",
            "3                   Japanese, Sushi  ...  Botswana Pula(P)                No   \n",
            "4                  Japanese, Korean  ...  Botswana Pula(P)               Yes   \n",
            "\n",
            "  Has Online delivery Is delivering now Switch to order menu Price range  \\\n",
            "0                  No                No                   No           3   \n",
            "1                  No                No                   No           3   \n",
            "2                  No                No                   No           4   \n",
            "3                  No                No                   No           4   \n",
            "4                  No                No                   No           4   \n",
            "\n",
            "   Aggregate rating  Rating color Rating text Votes  \n",
            "0               4.8    Dark Green   Excellent   314  \n",
            "1               4.5    Dark Green   Excellent   591  \n",
            "2               4.4         Green   Very Good   270  \n",
            "3               4.9    Dark Green   Excellent   365  \n",
            "4               4.8    Dark Green   Excellent   229  \n",
            "\n",
            "[5 rows x 21 columns]\n",
            "Restaurant ID           0\n",
            "Restaurant Name         0\n",
            "Country Code            0\n",
            "City                    0\n",
            "Address                 0\n",
            "Locality                0\n",
            "Locality Verbose        0\n",
            "Longitude               0\n",
            "Latitude                0\n",
            "Cuisines                9\n",
            "Average Cost for two    0\n",
            "Currency                0\n",
            "Has Table booking       0\n",
            "Has Online delivery     0\n",
            "Is delivering now       0\n",
            "Switch to order menu    0\n",
            "Price range             0\n",
            "Aggregate rating        0\n",
            "Rating color            0\n",
            "Rating text             0\n",
            "Votes                   0\n",
            "dtype: int64\n",
            "<class 'pandas.core.frame.DataFrame'>\n",
            "RangeIndex: 9551 entries, 0 to 9550\n",
            "Data columns (total 21 columns):\n",
            " #   Column                Non-Null Count  Dtype  \n",
            "---  ------                --------------  -----  \n",
            " 0   Restaurant ID         9551 non-null   int64  \n",
            " 1   Restaurant Name       9551 non-null   object \n",
            " 2   Country Code          9551 non-null   int64  \n",
            " 3   City                  9551 non-null   object \n",
            " 4   Address               9551 non-null   object \n",
            " 5   Locality              9551 non-null   object \n",
            " 6   Locality Verbose      9551 non-null   object \n",
            " 7   Longitude             9551 non-null   float64\n",
            " 8   Latitude              9551 non-null   float64\n",
            " 9   Cuisines              9542 non-null   object \n",
            " 10  Average Cost for two  9551 non-null   int64  \n",
            " 11  Currency              9551 non-null   object \n",
            " 12  Has Table booking     9551 non-null   object \n",
            " 13  Has Online delivery   9551 non-null   object \n",
            " 14  Is delivering now     9551 non-null   object \n",
            " 15  Switch to order menu  9551 non-null   object \n",
            " 16  Price range           9551 non-null   int64  \n",
            " 17  Aggregate rating      9551 non-null   float64\n",
            " 18  Rating color          9551 non-null   object \n",
            " 19  Rating text           9551 non-null   object \n",
            " 20  Votes                 9551 non-null   int64  \n",
            "dtypes: float64(3), int64(5), object(13)\n",
            "memory usage: 1.5+ MB\n",
            "None\n"
          ]
        }
      ]
    },
    {
      "cell_type": "code",
      "source": [
        "#Preprocessing\n",
        "for col in df.columns:\n",
        "  if df[col].dtype == 'object':\n",
        "    df[col]=df[col].fillna(df[col].mode()[0])\n",
        "  else:\n",
        "    df[col]=df[col].fillna(df[col].mean())\n",
        "\n",
        "le=LabelEncoder()\n",
        "for col in df.select_dtypes(include=['object']).columns:\n",
        "  df[col]=le.fit_transform(df[col])\n",
        "\n",
        "\n",
        "X=df.drop(\"Aggregate rating\",axis=1)\n",
        "y=df['Aggregate rating']\n",
        "\n",
        "#Splitting the dataset into train test\n",
        "X_train,X_test,y_train,y_test=train_test_split(X,y,test_size=0.2,random_state=42)\n",
        "\n"
      ],
      "metadata": {
        "id": "ZX0BO8REs9wC"
      },
      "execution_count": 9,
      "outputs": []
    },
    {
      "cell_type": "code",
      "source": [
        "#Model Training\n",
        "model=LinearRegression()\n",
        "model.fit(X_train,y_train)\n",
        "y_pred_lr=model.predict(X_test)\n",
        "\n",
        "model_dt=DecisionTreeRegressor()\n",
        "model_dt.fit(X_train,y_train)\n",
        "y_pred_dt=model_dt.predict(X_test)\n"
      ],
      "metadata": {
        "id": "ytWwx0fHwRzB"
      },
      "execution_count": 14,
      "outputs": []
    },
    {
      "cell_type": "code",
      "source": [
        "#Evaluation of the model using metrics\n",
        "print(\"Mean squared error of the Linear Regression Model: \",mean_squared_error(y_test,y_pred_lr))\n",
        "print(\"R-sqauared error of the Linear Regression Model: \",r2_score(y_test,y_pred_lr))\n",
        "print(\"\\n\")\n",
        "print(\"Mean squared error of the Decision Tree Regression Model: \",mean_squared_error(y_test,y_pred_dt))\n",
        "print(\"R-sqauared error of the Decision Tree Regression Model: \",r2_score(y_test,y_pred_dt))"
      ],
      "metadata": {
        "colab": {
          "base_uri": "https://localhost:8080/"
        },
        "id": "06_qNRHBwj61",
        "outputId": "4297a4ca-ca1b-4337-e0a2-035914b324c2"
      },
      "execution_count": 24,
      "outputs": [
        {
          "output_type": "stream",
          "name": "stdout",
          "text": [
            "Mean squared error of the Linear Regression Model:  1.2186925059460247\n",
            "R-sqauared error of the Linear Regression Model:  0.4645719905617005\n",
            "\n",
            "\n",
            "Mean squared error of the Decision Tree Regression Model:  0.05736263736263735\n",
            "R-sqauared error of the Decision Tree Regression Model:  0.974797939111502\n"
          ]
        }
      ]
    },
    {
      "cell_type": "code",
      "source": [
        "# Linear Regression Coefficients\n",
        "coef_df = pd.DataFrame({\n",
        "    \"Feature\": X.columns,\n",
        "    \"Coefficient\": model.coef_\n",
        "}).sort_values(by=\"Coefficient\", ascending=False)\n",
        "print(\"\\nLinear Regression - Feature Importance:\")\n",
        "print(coef_df)\n",
        "\n",
        "# Decision Tree Feature Importance\n",
        "imp_df = pd.DataFrame({\n",
        "    \"Feature\": X.columns,\n",
        "    \"Importance\": model_dt.feature_importances_\n",
        "}).sort_values(by=\"Importance\", ascending=False)\n",
        "print(\"\\nDecision Tree - Feature Importance:\")\n",
        "print(imp_df)\n"
      ],
      "metadata": {
        "colab": {
          "base_uri": "https://localhost:8080/"
        },
        "id": "lRjlxn7yB4iE",
        "outputId": "4d8d5147-d5eb-4924-8081-852a95451cdc"
      },
      "execution_count": 26,
      "outputs": [
        {
          "output_type": "stream",
          "name": "stdout",
          "text": [
            "\n",
            "Linear Regression - Feature Importance:\n",
            "                 Feature   Coefficient\n",
            "13   Has Online delivery  6.761170e-01\n",
            "16           Price range  4.956777e-01\n",
            "2           Country Code  6.645632e-03\n",
            "7              Longitude  8.820727e-04\n",
            "19                 Votes  4.864794e-04\n",
            "6       Locality Verbose  7.526886e-05\n",
            "1        Restaurant Name  2.217537e-06\n",
            "10  Average Cost for two  1.393134e-06\n",
            "15  Switch to order menu -1.110223e-16\n",
            "0          Restaurant ID -3.727243e-08\n",
            "4                Address -2.235244e-05\n",
            "9               Cuisines -2.075413e-04\n",
            "5               Locality -3.706328e-04\n",
            "8               Latitude -1.241751e-03\n",
            "3                   City -3.031383e-03\n",
            "12     Has Table booking -6.530484e-03\n",
            "14     Is delivering now -3.562173e-02\n",
            "11              Currency -8.407780e-02\n",
            "17          Rating color -1.951937e-01\n",
            "18           Rating text -1.984145e-01\n",
            "\n",
            "Decision Tree - Feature Importance:\n",
            "                 Feature  Importance\n",
            "19                 Votes    0.898987\n",
            "17          Rating color    0.086808\n",
            "18           Rating text    0.002580\n",
            "0          Restaurant ID    0.002323\n",
            "7              Longitude    0.001473\n",
            "4                Address    0.001409\n",
            "1        Restaurant Name    0.001356\n",
            "9               Cuisines    0.001268\n",
            "8               Latitude    0.001071\n",
            "10  Average Cost for two    0.000921\n",
            "6       Locality Verbose    0.000695\n",
            "5               Locality    0.000433\n",
            "13   Has Online delivery    0.000223\n",
            "3                   City    0.000211\n",
            "16           Price range    0.000134\n",
            "12     Has Table booking    0.000085\n",
            "14     Is delivering now    0.000013\n",
            "2           Country Code    0.000006\n",
            "11              Currency    0.000003\n",
            "15  Switch to order menu    0.000000\n"
          ]
        }
      ]
    },
    {
      "cell_type": "code",
      "source": [],
      "metadata": {
        "id": "fZEqlNjaCwio"
      },
      "execution_count": null,
      "outputs": []
    }
  ]
}