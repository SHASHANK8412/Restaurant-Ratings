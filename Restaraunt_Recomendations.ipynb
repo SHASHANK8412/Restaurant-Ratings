{
  "nbformat": 4,
  "nbformat_minor": 0,
  "metadata": {
    "colab": {
      "provenance": [],
      "authorship_tag": "ABX9TyMK5w1IK1ghb5paDPbE33ji",
      "include_colab_link": true
    },
    "kernelspec": {
      "name": "python3",
      "display_name": "Python 3"
    },
    "language_info": {
      "name": "python"
    }
  },
  "cells": [
    {
      "cell_type": "markdown",
      "metadata": {
        "id": "view-in-github",
        "colab_type": "text"
      },
      "source": [
        "<a href=\"https://colab.research.google.com/github/SHASHANK8412/Restaurant-Ratings/blob/main/Restaraunt_Recomendations.ipynb\" target=\"_parent\"><img src=\"https://colab.research.google.com/assets/colab-badge.svg\" alt=\"Open In Colab\"/></a>"
      ]
    },
    {
      "cell_type": "markdown",
      "source": [
        "Importing Libraries\n",
        "\n",
        "\n"
      ],
      "metadata": {
        "id": "S_KNNQresPK8"
      }
    },
    {
      "cell_type": "code",
      "execution_count": 15,
      "metadata": {
        "id": "SSNVMAykrkgm"
      },
      "outputs": [],
      "source": [
        "import pandas as pd\n",
        "from sklearn.preprocessing import LabelEncoder\n",
        "from sklearn.feature_extraction.text import TfidfVectorizer\n",
        "from sklearn.metrics.pairwise import cosine_similarity\n",
        "import numpy as np\n"
      ]
    },
    {
      "cell_type": "markdown",
      "source": [
        "Loading the dataset"
      ],
      "metadata": {
        "id": "oZo4A1CW0geg"
      }
    },
    {
      "cell_type": "code",
      "source": [
        "df=pd.read_csv('Dataset .csv')\n",
        "print(df.isna().sum())\n",
        "print(df.head())\n",
        "\n",
        "# Force object type for text columns\n",
        "text_cols = ['Restaurant Name', 'City', 'Cuisines']\n",
        "for col in text_cols:\n",
        "    df[col] = df[col].astype(str)\n"
      ],
      "metadata": {
        "colab": {
          "base_uri": "https://localhost:8080/"
        },
        "id": "itb_5FMo0gHi",
        "outputId": "618bed4d-c7c7-4caa-db96-15bf4878d928"
      },
      "execution_count": 20,
      "outputs": [
        {
          "output_type": "stream",
          "name": "stdout",
          "text": [
            "Restaurant ID           0\n",
            "Restaurant Name         0\n",
            "Country Code            0\n",
            "City                    0\n",
            "Address                 0\n",
            "Locality                0\n",
            "Locality Verbose        0\n",
            "Longitude               0\n",
            "Latitude                0\n",
            "Cuisines                9\n",
            "Average Cost for two    0\n",
            "Currency                0\n",
            "Has Table booking       0\n",
            "Has Online delivery     0\n",
            "Is delivering now       0\n",
            "Switch to order menu    0\n",
            "Price range             0\n",
            "Aggregate rating        0\n",
            "Rating color            0\n",
            "Rating text             0\n",
            "Votes                   0\n",
            "dtype: int64\n",
            "   Restaurant ID         Restaurant Name  Country Code              City  \\\n",
            "0        6317637        Le Petit Souffle           162       Makati City   \n",
            "1        6304287        Izakaya Kikufuji           162       Makati City   \n",
            "2        6300002  Heat - Edsa Shangri-La           162  Mandaluyong City   \n",
            "3        6318506                    Ooma           162  Mandaluyong City   \n",
            "4        6314302             Sambo Kojin           162  Mandaluyong City   \n",
            "\n",
            "                                             Address  \\\n",
            "0  Third Floor, Century City Mall, Kalayaan Avenu...   \n",
            "1  Little Tokyo, 2277 Chino Roces Avenue, Legaspi...   \n",
            "2  Edsa Shangri-La, 1 Garden Way, Ortigas, Mandal...   \n",
            "3  Third Floor, Mega Fashion Hall, SM Megamall, O...   \n",
            "4  Third Floor, Mega Atrium, SM Megamall, Ortigas...   \n",
            "\n",
            "                                     Locality  \\\n",
            "0   Century City Mall, Poblacion, Makati City   \n",
            "1  Little Tokyo, Legaspi Village, Makati City   \n",
            "2  Edsa Shangri-La, Ortigas, Mandaluyong City   \n",
            "3      SM Megamall, Ortigas, Mandaluyong City   \n",
            "4      SM Megamall, Ortigas, Mandaluyong City   \n",
            "\n",
            "                                    Locality Verbose   Longitude   Latitude  \\\n",
            "0  Century City Mall, Poblacion, Makati City, Mak...  121.027535  14.565443   \n",
            "1  Little Tokyo, Legaspi Village, Makati City, Ma...  121.014101  14.553708   \n",
            "2  Edsa Shangri-La, Ortigas, Mandaluyong City, Ma...  121.056831  14.581404   \n",
            "3  SM Megamall, Ortigas, Mandaluyong City, Mandal...  121.056475  14.585318   \n",
            "4  SM Megamall, Ortigas, Mandaluyong City, Mandal...  121.057508  14.584450   \n",
            "\n",
            "                           Cuisines  ...          Currency Has Table booking  \\\n",
            "0        French, Japanese, Desserts  ...  Botswana Pula(P)               Yes   \n",
            "1                          Japanese  ...  Botswana Pula(P)               Yes   \n",
            "2  Seafood, Asian, Filipino, Indian  ...  Botswana Pula(P)               Yes   \n",
            "3                   Japanese, Sushi  ...  Botswana Pula(P)                No   \n",
            "4                  Japanese, Korean  ...  Botswana Pula(P)               Yes   \n",
            "\n",
            "  Has Online delivery Is delivering now Switch to order menu Price range  \\\n",
            "0                  No                No                   No           3   \n",
            "1                  No                No                   No           3   \n",
            "2                  No                No                   No           4   \n",
            "3                  No                No                   No           4   \n",
            "4                  No                No                   No           4   \n",
            "\n",
            "   Aggregate rating  Rating color Rating text Votes  \n",
            "0               4.8    Dark Green   Excellent   314  \n",
            "1               4.5    Dark Green   Excellent   591  \n",
            "2               4.4         Green   Very Good   270  \n",
            "3               4.9    Dark Green   Excellent   365  \n",
            "4               4.8    Dark Green   Excellent   229  \n",
            "\n",
            "[5 rows x 21 columns]\n"
          ]
        }
      ]
    },
    {
      "cell_type": "markdown",
      "source": [
        "Preprocessing"
      ],
      "metadata": {
        "id": "UnWKrKSI0PLf"
      }
    },
    {
      "cell_type": "code",
      "source": [
        "for col in df.columns:\n",
        "  if df[col].dtype=='object':\n",
        "    df[col]=df[col].fillna(df[col].mode()[0])\n",
        "  else:\n",
        "    df[col]=df[col].fillna(df[col].mean())\n",
        "\n",
        "\n",
        "le=LabelEncoder()\n",
        "for col in df.select_dtypes(include=['object']).columns:\n",
        "  df[col]=le.fit_transform(df[col])"
      ],
      "metadata": {
        "id": "paOn04a_0Owt"
      },
      "execution_count": 11,
      "outputs": []
    },
    {
      "cell_type": "code",
      "source": [
        "df['Norm Price'] = (df['Average Cost for two'] - df['Average Cost for two'].min()) / \\\n",
        "                   (df['Average Cost for two'].max() - df['Average Cost for two'].min())\n",
        "df['Norm Rating'] = df['Aggregate rating'] / df['Aggregate rating'].max()\n"
      ],
      "metadata": {
        "id": "4gMkYEmQ0Mld"
      },
      "execution_count": 12,
      "outputs": []
    },
    {
      "cell_type": "code",
      "source": [
        "\n",
        "# Ensure all cuisines are strings\n",
        "df['Cuisines'] = df['Cuisines'].astype(str)\n",
        "\n",
        "# TF-IDF Vectorization on Cuisines\n",
        "tfidf = TfidfVectorizer(stop_words='english')\n",
        "tfidf_matrix = tfidf.fit_transform(df['Cuisines'])\n",
        "\n",
        "# Combine text + numeric features\n",
        "features = np.hstack((tfidf_matrix.toarray(),\n",
        "                      df[['Norm Price', 'Norm Rating']].values))\n"
      ],
      "metadata": {
        "id": "ojV8j76X6T_D"
      },
      "execution_count": 18,
      "outputs": []
    },
    {
      "cell_type": "code",
      "source": [
        "def recommend_restaurants(user_cuisine, max_budget, min_rating, top_n=5):\n",
        "    \"\"\"\n",
        "    Recommend restaurants based on cuisine, budget, and rating\n",
        "    \"\"\"\n",
        "    # Filter dataset by budget and rating\n",
        "    filtered_df = df[(df['Average Cost for two'] <= max_budget) &\n",
        "                     (df['Aggregate rating'] >= min_rating)]\n",
        "\n",
        "    if filtered_df.empty:\n",
        "        return \"No restaurants found matching your criteria.\"\n",
        "\n",
        "\n",
        "    user_vec = tfidf.transform([user_cuisine]).toarray()\n",
        "    user_features = np.hstack((user_vec,\n",
        "                               [[max_budget/df['Average Cost for two'].max(),\n",
        "                                 min_rating/df['Aggregate rating'].max()]]))\n",
        "\n",
        "    # Compute similarity with all restaurants\n",
        "    sims = cosine_similarity(user_features, features).flatten()\n",
        "\n",
        "    # Get top restaurants\n",
        "    top_indices = sims.argsort()[-top_n:][::-1]\n",
        "\n",
        "    return df.iloc[top_indices][['Restaurant Name', 'City', 'Cuisines',\n",
        "                                  'Average Cost for two', 'Aggregate rating']]\n",
        "\n",
        "\n",
        "if __name__ == \"__main__\":\n",
        "    print(\"---- Restaurant Recommendation System ----\")\n",
        "    cuisine = input(\"Enter preferred cuisine: \")\n",
        "    budget = int(input(\"Enter maximum budget for two people: \"))\n",
        "    rating = float(input(\"Enter minimum rating (e.g. 3.5): \"))\n",
        "\n",
        "    recommendations = recommend_restaurants(cuisine, budget, rating, top_n=5)\n",
        "    print(\"\\nTop Restaurant Recommendations:\\n\")\n",
        "    print(recommendations)"
      ],
      "metadata": {
        "colab": {
          "base_uri": "https://localhost:8080/"
        },
        "id": "OOuyxmyn6uoQ",
        "outputId": "1dd030f4-4b51-4061-eb78-2060abc4ae01"
      },
      "execution_count": 22,
      "outputs": [
        {
          "output_type": "stream",
          "name": "stdout",
          "text": [
            "---- Restaurant Recommendation System ----\n",
            "Enter preferred cuisine: Italian\n",
            "Enter maximum budget for two people: 2000\n",
            "Enter minimum rating (e.g. 3.5): 3\n",
            "\n",
            "Top Restaurant Recommendations:\n",
            "\n",
            "                    Restaurant Name         City  \\\n",
            "6659       The California Boulevard    New Delhi   \n",
            "21    The Food Hall by Todd English  Taguig City   \n",
            "8608          Kenny Rogers Roasters        Noida   \n",
            "3907               Big Fat Sandwich    New Delhi   \n",
            "2626               Big Fat Sandwich    New Delhi   \n",
            "\n",
            "                                Cuisines  Average Cost for two  \\\n",
            "6659  American, Asian, European, Seafood                  2000   \n",
            "21     American, Asian, Italian, Seafood                  1800   \n",
            "8608                            American                  1300   \n",
            "3907                            American                   800   \n",
            "2626                            American                   800   \n",
            "\n",
            "      Aggregate rating  \n",
            "6659               4.6  \n",
            "21                 4.5  \n",
            "8608               3.7  \n",
            "3907               2.9  \n",
            "2626               3.5  \n"
          ]
        }
      ]
    },
    {
      "cell_type": "code",
      "source": [],
      "metadata": {
        "id": "quKtmz6g7HXx"
      },
      "execution_count": null,
      "outputs": []
    }
  ]
}